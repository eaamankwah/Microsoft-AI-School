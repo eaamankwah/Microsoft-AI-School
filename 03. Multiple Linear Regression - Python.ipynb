{
 "cells": [
  {
   "cell_type": "markdown",
   "metadata": {},
   "source": [
    "Exercise 3 - Multiple Linear Regression\n",
    "===================\n",
    "\n",
    "From the previous exercise, we know that customers are happier with chocolate bars that are large and have high amounts of cocoa. Customers may feel differently when they have to pay for these bars though.\n",
    "\n",
    "In this exercise, we will try to find the chocolate bar that best suits customers, taking into account the cocoa content, size, and price.\n",
    "\n",
    "Step 1\n",
    "------\n",
    "\n",
    "Firstly, lets have a look at our data.\n",
    "\n",
    "The data is from survey of how happy customers were with chocolate bars they purchased.\n",
    "\n",
    "#### Replace `<printDataHere>` with `print(dataset.head())` below, and __run the code__."
   ]
  },
  {
   "cell_type": "code",
   "execution_count": null,
   "metadata": {},
   "outputs": [],
   "source": [
    "# This sets up the graphing configuration\n",
    "import warnings\n",
    "warnings.filterwarnings(\"ignore\")\n",
    "import matplotlib.pyplot as graph\n",
    "%matplotlib inline\n",
    "graph.rcParams['figure.figsize'] = (15,5)\n",
    "graph.rcParams[\"font.family\"] = 'DejaVu Sans'\n",
    "graph.rcParams[\"font.size\"] = '12'\n",
    "import pandas as pd\n",
    "import statsmodels.formula.api as smf\n",
    "\n",
    "# Imports our new data set!\n",
    "dataset = pd.read_csv('Data/chocolate data multiple linear regression.txt', index_col=False, sep=\"\\t\",header=0)\n",
    " \n",
    "###    \n",
    "# REPLACE <printDataHere> with print(dataset.head())\n",
    "###\n",
    "<printDataHere>\n",
    "###"
   ]
  },
  {
   "cell_type": "markdown",
   "metadata": {},
   "source": [
    "Step 2\n",
    "------\n",
    "\n",
    "Previously we found that customers like a high percentage of cocoa and heavier bars of chocolate. Large bars of chocolate cost more money, though, which might make customers less inclined to purchase them.\n",
    "\n",
    "Let's perform a simple linear regression to see the relationship between __customer happiness__ and chocolate bar __weight__ when the cost of the chocolate was taken into consideration for the survey.\n",
    "\n",
    "#### In the cell below find the text `<addFeatureHere>` and replace it with `weight` and __run the code__."
   ]
  },
  {
   "cell_type": "code",
   "execution_count": null,
   "metadata": {},
   "outputs": [],
   "source": [
    "###\n",
    "# REPLACE <addFeatureHere> BELOW WITH weight\n",
    "###\n",
    "formula = 'customer_happiness ~ <addFeatureHere>'\n",
    "###\n",
    "\n",
    "# This performs linear regression\n",
    "lm = smf.ols(formula = formula, data = data).fit()\n",
    "\n",
    "featureName = formula.split(\" \")[-1]\n",
    "\n",
    "# Get the data for the x parameter (the feature)\n",
    "x = data[featureName]\n",
    "\n",
    "# This makes and shows a graph\n",
    "intercept = lm.params[0]\n",
    "slope = lm.params[1]\n",
    "line = slope * x + intercept\n",
    "graph.plot(x, line, '-', c = 'red')\n",
    "graph.scatter(x, data.customer_happiness)\n",
    "graph.ylabel('Customer Happiness')\n",
    "graph.xlabel(featureName)\n",
    "graph.show()"
   ]
  },
  {
   "cell_type": "markdown",
   "metadata": {},
   "source": [
    "Customer happiness still increases with larger bars of chocolate. However, many data points (blue) are a long way from our trendline (red). This means that this line doesn't describe the data very well. It is likely that there are other features of the chocolate that are influencing customer happiness.\n",
    "\n",
    "Repeat the above exercise, looking at `cocoa_percent` in place of `weight` and run the code again. You should see a similar trend."
   ]
  },
  {
   "cell_type": "markdown",
   "metadata": {},
   "source": [
    "Step 3\n",
    "------\n",
    "\n",
    "We can check how well our data fit by getting the R² values. These range between 0 - 1, where 1 is a perfect fit. What is a 'good' or 'bad' fit depends on several things, but for our purposes here numbers below ~0.3 will mean a poor fit.\n",
    "\n",
    "Our linear model is saved under the name `lm`.\n",
    "\n",
    "The linear model for simple linear regression we just ran, \"weight vs. customer happiness\", is saved under `lm`. Let's determine the R² value of this model. \n",
    "\n",
    "#### Print out the R² value of this model by replacing the text `<addFunctionCallHere>` with `rsquared` and then __run the code__."
   ]
  },
  {
   "cell_type": "code",
   "execution_count": null,
   "metadata": {},
   "outputs": [],
   "source": [
    "###\n",
    "# REPLACE <addFunctionCallHere> BELOW WITH rsquared TO PRINT THE R² VALUE\n",
    "###\n",
    "print(lm.<addFunctionCallHere>)\n",
    "###"
   ]
  },
  {
   "cell_type": "markdown",
   "metadata": {},
   "source": [
    "We have a value below 0.3, which means it is a poor fit.\n",
    "\n",
    "Step 4\n",
    "------\n",
    "\n",
    "The problem with our chocolate bar survey is that the chocolate bar variables aren't controlled; cost, bar weight, and cocoa percent are different for every chocolate bar.\n",
    "\n",
    "We want to see the relationship between cocoa content and customer happiness, but cost and block weight are also influencing customer happiness.\n",
    "\n",
    "We *could* run another survey, giving away chocolate bars that are all the same weight for free (i.e. weight and cost are constant), and ask people how happy they are with the chocolate bar given varying percentages of cocoa. However, this would be expensive and time consuming.\n",
    "\n",
    "__Alternatively, we can use multiple linear regression__. Multiple linear regression can give us the relationship between each _feature_ and customer happiness. These are provided as _coefficients_ (slopes). Positive numbers indicate a positive relationship (i.e. customer happiness increases as this feature increases), negative numbers indicate a negative relationship (customer happiness decreases as this feature increases). Unlike _simple_ linear regression, these relationships should be independent. That means that our relationship between cocoa content and customer happiness should not be influenced strongly by bar weight or cost. \n",
    "\n",
    "### Below, replace: \n",
    "#### 1. `<addCocoaPercentHere>` with `cocoa_percent` \n",
    "#### 2. `<addCostPercentHere>` with `cost`\n",
    "### then __run the code__."
   ]
  },
  {
   "cell_type": "code",
   "execution_count": null,
   "metadata": {},
   "outputs": [],
   "source": [
    "###\n",
    "# IN THE LINE BELOW REPLACE <addCocoaPercentHere> WITH cocoa_percent AND <addCostPercentHere> WITH cost\n",
    "###\n",
    "formula = 'customer_happiness ~ weight + <addCocoaPercentHere> + <addCostPercentHere>'\n",
    "###\n",
    "\n",
    "# This creates a new model with all three features\n",
    "lm = smf.ols(formula = formula, data = dataset).fit()\n",
    "\n",
    "# Print the coefficients (slopes) of our new model\n",
    "print(lm.params)\n",
    "\n",
    "print(\"R²: \" + str(lm.rsquared))"
   ]
  },
  {
   "cell_type": "markdown",
   "metadata": {},
   "source": [
    "If we inspect the table, we can see that `weight` and `cocoa_percent` are positive numbers, telling us they both independently increase customer happiness, but also that cost decreases it. \n",
    "\n",
    "The R² value is also much higher than before. This means model fits much better now.\n",
    "\n",
    "Step 5\n",
    "------\n",
    "\n",
    "From our linear regression, we have an equation that predicts customer happiness. It looks like so:\n",
    "\n",
    "`customer_happiness = -9.34 + weight * 0.106 + cocoa_percent * 31.9 + cost * -1.31`\n",
    "\n",
    "We might also know that, for our company, the cost of manufacturing and shipping each bar can be calculated as:\n",
    "\n",
    "`cost = (0.05 * weight + weight * cocoa_percent)^2 * 0.0004`\n",
    "\n",
    "From this, we can calculate the best bar for our customers, by balancing the cost against how happy the customer is likely to be with this product.\n",
    "\n",
    "Lets plots this in 3D to see what our optimum chocolate bar should be.\n",
    "\n",
    "Below, complete the calculation for customer happiness.\n",
    "\n",
    "#### Replace `<addThirdCoefHere>` and `<addFourthCoefHere>` as described in the comments and then __run the code__."
   ]
  },
  {
   "cell_type": "code",
   "execution_count": null,
   "metadata": {},
   "outputs": [],
   "source": [
    "import math\n",
    "import numpy as np\n",
    "from mpl_toolkits.mplot3d import Axes3D\n",
    "def CalculateCustomerHappiness(weight, cocoa_percent):\n",
    "    # This calculates the customer happiness for a given bar of chocolate\n",
    "    cocoa_fraction = cocoa_percent / 100\n",
    "    cost = (weight * 0.05 + weight * cocoa_fraction)**2 * 0.0004\n",
    "    \n",
    "    # First coefficient\n",
    "    coeff_intercept = lm.params[0]\n",
    "    \n",
    "    # Second coefficient\n",
    "    coeff_weight = lm.params[1]\n",
    "    \n",
    "    # Third coefficient\n",
    "    coeff_cocoa = lm.params[2]\n",
    "    \n",
    "    # Fourth coefficient\n",
    "    coeff_cost = lm.params[3]\n",
    "    \n",
    "    ### \n",
    "    # REPLACE THE <addThirdCoefHere> AND <addFourthCoefHere> BELOW WITH THE THIRD AND FOURTH COEFFICIENTS\n",
    "    # YOU'LL FIND THEM JUST ABOVE THESE COMMENTS!\n",
    "    # THE FIRST TWO HAVE ALREADY BEEN COMPLETED FOR YOU\n",
    "    ###\n",
    "    customer_happiness = (coeff_intercept) + (weight * coeff_weight) + (cocoa_fraction * <addThirdCoefHere>) + (cost * <addFourthCoefHere>)\n",
    "    ###\n",
    "    \n",
    "    return customer_happiness\n",
    "       \n",
    "    \n",
    "# Don't edit this part! This creates our graph.\n",
    "def Graph3d():\n",
    "    # This creates a 3D graph of likely customer happiness with different types of chocolate bar\n",
    "    fig = graph.figure()\n",
    "    ax = fig.add_subplot(111, projection='3d')\n",
    "\n",
    "    cocoaPercentages=range(0,100,5)\n",
    "    for weight in range(50,250,5):\n",
    "        happiness=[]\n",
    "        for cocoa in cocoaPercentages:\n",
    "            happiness.append(CalculateCustomerHappiness(weight,cocoa))\n",
    "\n",
    "        ax.scatter(np.full(len(happiness),weight), cocoaPercentages, happiness,c=happiness)\n",
    "\n",
    "    ax.set_xlabel('Chocolate Bar Weight')\n",
    "    ax.set_ylabel('Cocoa %')\n",
    "    ax.set_zlabel('Customer happiness')\n",
    "\n",
    "    graph.show()\n",
    "    \n",
    "Graph3d()"
   ]
  },
  {
   "cell_type": "markdown",
   "metadata": {},
   "source": [
    "In the graph above, higher values in the graph (yellow) show higher customer happiness. We can see that our optimum bar should be around 100g and contain a high amount of cocoa. For large bars of chocolate, a cocoa content of around 50% appears to be ideal.\n",
    "\n",
    "Note how this is different to our earlier work with _simple_ linear regression. With that, we assumed a large bar with very high amount of cocoa was what customers would want."
   ]
  },
  {
   "cell_type": "markdown",
   "metadata": {},
   "source": [
    "Conclusion\n",
    "==========\n",
    "\n",
    "That's it! You can go back to the course now and click on __'Next Step'__ to carry on with our introduction to regression."
   ]
  },
  {
   "cell_type": "code",
   "execution_count": null,
   "metadata": {},
   "outputs": [],
   "source": []
  }
 ],
 "metadata": {
  "kernelspec": {
   "display_name": "Python 3",
   "language": "python",
   "name": "python3"
  },
  "language_info": {
   "codemirror_mode": {
    "name": "ipython",
    "version": 3
   },
   "file_extension": ".py",
   "mimetype": "text/x-python",
   "name": "python",
   "nbconvert_exporter": "python",
   "pygments_lexer": "ipython3",
   "version": "3.7.6"
  }
 },
 "nbformat": 4,
 "nbformat_minor": 4
}
