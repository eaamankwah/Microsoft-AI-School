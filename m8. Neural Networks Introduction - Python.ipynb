{
 "cells": [
  {
   "cell_type": "markdown",
   "metadata": {},
   "source": [
    "Exercise 8 - Introduction to Neural Networks\n",
    "=======\n",
    "\n",
    "Originally hypothesised in the 1940s, neural networks are now one of the main tools used in modern AI. Neural networks can be used for both regression and categorisation applications. Recent advances with storage, processing power, and open-source tools have allowed many successful applications of neural networks in medical diagnosis, filtering explicit content, speech recognition and machine translation.\n",
    "\n",
    "In this exercise we will compare three dog breeds, using their age, weight, and height. We will make a neural network model to classify the breeds of the dogs based on these features.\n",
    "\n",
    "Note: It's extremely common for AI practitioners to use a template such as the one below for making neural networks quickly. After you are done, feel free to play around with the template to get a feel of how you can easily adjust a neural network to your problems using Keras.\n",
    "\n",
    "__Run the code__ in the cell below."
   ]
  },
  {
   "cell_type": "code",
   "execution_count": 1,
   "metadata": {},
   "outputs": [
    {
     "name": "stderr",
     "output_type": "stream",
     "text": [
      "Using TensorFlow backend.\n"
     ]
    },
    {
     "name": "stdout",
     "output_type": "stream",
     "text": [
      "keras using tensorflow backend\n"
     ]
    }
   ],
   "source": [
    "# Run this!\n",
    "import warnings\n",
    "warnings.filterwarnings(\"ignore\")\n",
    "import tensorflow as tf\n",
    "import keras\n",
    "print('keras using %s backend'%keras.backend.backend())\n",
    "import pandas as pd\n",
    "import numpy as np\n",
    "import matplotlib.pyplot as graph\n",
    "%matplotlib inline\n",
    "graph.rcParams['figure.figsize'] = (15,5)\n",
    "graph.rcParams[\"font.family\"] = 'DejaVu Sans'\n",
    "graph.rcParams[\"font.size\"] = '12'\n",
    "graph.rcParams['image.cmap'] = 'rainbow'"
   ]
  },
  {
   "cell_type": "markdown",
   "metadata": {},
   "source": [
    "Step 1\n",
    "------\n",
    "\n",
    "Let's start by opening up our data and having a look at it.\n",
    "\n",
    "#### In the cell below replace the `<printDataHere>` with `print(dataset.head())` and then __Run the code__ in the cell below."
   ]
  },
  {
   "cell_type": "code",
   "execution_count": 2,
   "metadata": {},
   "outputs": [
    {
     "name": "stdout",
     "output_type": "stream",
     "text": [
      "    age  weight  height  breed\n",
      "0  9.47    6.20    6.80      1\n",
      "1  7.97    8.63    8.92      0\n",
      "2  9.51    6.40    5.78      1\n",
      "3  8.96    8.82    6.28      2\n",
      "4  8.37    3.89    5.62      1\n",
      "Shape of data set: (200, 4)\n"
     ]
    }
   ],
   "source": [
    "# This loads the dataset\n",
    "dataset = pd.read_csv('Data/dog_data.csv')\n",
    "\n",
    "###\n",
    "print(dataset.head()) \n",
    "###\n",
    "\n",
    "# This tells us the shape of the data set\n",
    "print(\"Shape of data set:\", dataset.shape)\n",
    "\n",
    "# Defines the feature dataframe\n",
    "features = dataset.drop(['breed'], axis = 1)"
   ]
  },
  {
   "cell_type": "markdown",
   "metadata": {},
   "source": [
    "So we've got data from __200 dogs__. The features are their __age__, __weight__, and __height__.\n",
    "\n",
    "Step 2\n",
    "------\n",
    "\n",
    "Our labels are three breeds of dogs, represented as numbers in our dataset, as `0`, `1`, and `2`. \n",
    "\n",
    "For a neural network these numbers are misleading, as they might imply that breed `1` is closer to breed `2` than breed `0` is, in some way. But that is not the case here.\n",
    "\n",
    "To allow the neural network to predict categories properly we represent categories as one-hot vectors. The labels (dog breeds) will go from being represented as `0`, `1`, and `2` to this:\n",
    "\n",
    "| breed 0 | breed 1 | breed 2 |\n",
    "|:------- |:------- |:------- |\n",
    "| `1 0 0` | `0 1 0` | `0 0 1` |\n",
    "\n",
    "So the if the 1 is in the first position, the neural network knows that it's breed 0.\n",
    "\n",
    "If the 1 is in the second position, the neural network knows that it's breed 1, and so on.\n",
    "\n",
    "#### Replace `<addLabels>` with `labels` and __Run the code__."
   ]
  },
  {
   "cell_type": "code",
   "execution_count": 3,
   "metadata": {},
   "outputs": [
    {
     "name": "stdout",
     "output_type": "stream",
     "text": [
      "[[0. 1. 0.]\n",
      " [1. 0. 0.]\n",
      " [0. 1. 0.]\n",
      " [0. 0. 1.]\n",
      " [0. 1. 0.]]\n"
     ]
    }
   ],
   "source": [
    "from sklearn.preprocessing import OneHotEncoder\n",
    "\n",
    "# This sets the  labels (numerical)\n",
    "labels = np.array(dataset['breed'])\n",
    "\n",
    "###\n",
    "# REPLACE THE <addLabels> BELOW WITH labels\n",
    "###\n",
    "onehot = OneHotEncoder(sparse = False).fit_transform(np.transpose([labels]))\n",
    "###\n",
    "\n",
    "print(onehot[:5])"
   ]
  },
  {
   "cell_type": "markdown",
   "metadata": {},
   "source": [
    "There we go!\n",
    "\n",
    "Step 3\n",
    "-------\n",
    "\n",
    "Before we make our model, let's get our test set and training set ready.\n",
    "\n",
    "We've got data on 200 dogs, so we'll use 160 for a training set, and 40 for our test set.\n",
    "\n",
    "#### Run the code below to set up our training at test sets."
   ]
  },
  {
   "cell_type": "code",
   "execution_count": 4,
   "metadata": {},
   "outputs": [],
   "source": [
    "# Run this! This sets up our training and test sets.\n",
    "\n",
    "# This takes the first 160 examples for our training set\n",
    "train_X = features.values[:160]\n",
    "train_Y = onehot[:160]\n",
    "\n",
    "# This takes the last 40 examples of the 200 for our test set\n",
    "test_X = features.values[160:]\n",
    "test_Y = onehot[160:]"
   ]
  },
  {
   "cell_type": "markdown",
   "metadata": {},
   "source": [
    "## Step 4\n",
    "\n",
    "That's our data ready. Now it's time to make your first neural network model!\n",
    "\n",
    "This is the standard syntax for a model in Keras. You can always play around with adding in extra hidden layers and changing their size and activation functions later.\n",
    "\n",
    "Our **first layer** is our **input layer**, with **3 nodes** because we have three features.\n",
    "\n",
    "Our __second layer__ is our 1st hidden layer, so let's try **4 nodes** for it.\n",
    "\n",
    "Our __third layer__ is our second hidden layer, let's try **2 nodes** for it.\n",
    "\n",
    "Our **final layer** will be the **output layer**, in which we have **3 nodes**, one for each of the dog breeds.\n",
    "\n",
    "### In the cell below replace:\n",
    "#### 1. `<addSequential>` with `Sequential()`\n",
    "#### 2. `<inputNodes>` with `3`\n",
    "#### 3. `<hiddenNotes1>` with `4`\n",
    "#### 4. `<hiddenNotes2>` with `2`\n",
    "#### 5. `<outputNotes>` with `3`\n",
    "\n",
    "#### and then __run the code__."
   ]
  },
  {
   "cell_type": "code",
   "execution_count": 5,
   "metadata": {},
   "outputs": [
    {
     "name": "stdout",
     "output_type": "stream",
     "text": [
      "Layer structure: [3, 4, 2, 3]\n"
     ]
    }
   ],
   "source": [
    "# Set a randomisation seed for replicatability.\n",
    "np.random.seed(6)\n",
    "\n",
    "\n",
    "# This creates our base model for us to add to\n",
    "###\n",
    "# REPLACE THE <addSequential> BELOW WITH Sequential()\n",
    "###\n",
    "model = keras.models.Sequential()\n",
    "###\n",
    "\n",
    "###\n",
    "# REPLACE THE <inputNodes>, <hiddenNotes1>, <hiddenNotes2>, <outputNotes> BELOW WITH THE APPROPRIATE NUMBERS OF NODES AS DESCRIBED ABOVE\n",
    "###\n",
    "structure = [3, 4, 2, 3]\n",
    "###\n",
    "\n",
    "# Input layer + hidden layer 1\n",
    "model.add(keras.layers.Dense(units=structure[1], input_dim = structure[0], activation = 'relu'))\n",
    "\n",
    "# Hidden layer 2\n",
    "model.add(keras.layers.Dense(units=structure[2], activation = 'relu'))\n",
    "\n",
    "# Output layer - note that the activation function is softmax\n",
    "# Softmax will predict a category and provide a value for how likely this is the correct prediction.\n",
    "model.add(keras.layers.Dense(units=structure[3], activation = tf.nn.softmax))\n",
    "\n",
    "print(\"Layer structure:\", structure)"
   ]
  },
  {
   "cell_type": "markdown",
   "metadata": {},
   "source": [
    "Expected output:  \n",
    "`Layer structure: [3, 4, 2, 3]`\n",
    "\n",
    "Alright, that's your first model ready.\n",
    "\n",
    "('tanh' is another common activation function if you want to try it instead of relu, but it doesn't perform very well here)\n",
    "\n",
    "Step 5\n",
    "-------\n",
    "\n",
    "Next up we'll compile it and see how it runs.\n",
    "\n",
    "There's a few parameters you can chose that change how the model trains, and end up changing how the model performs.\n",
    "\n",
    "We will use some standard parameters for now. Feel free to experiment with some different parameters later on.\n",
    "\n",
    "If this doesn't work, check your input the correct size for the input and output layers in step 4 (3 nodes each).\n",
    "\n",
    "### In the cell below replace:\n",
    "#### 1. `<addLoss>` with `'categorical_crossentropy'`\n",
    "#### 2. `<addOptimizer>` with `sgd'`\n",
    "#### 3. `<addMetric>` with `'accuracy'`\n",
    "#### 4. `<addTrainX>` with `train_X`\n",
    "#### 5. `<addTrainY>` with `train_Y`\n",
    "\n",
    "#### and then __run the code__."
   ]
  },
  {
   "cell_type": "code",
   "execution_count": 6,
   "metadata": {},
   "outputs": [
    {
     "name": "stdout",
     "output_type": "stream",
     "text": [
      "Starting training\n",
      "Training finished\n",
      "Training Evaluation: loss = 0.626, accuracy = 73.12%\n"
     ]
    }
   ],
   "source": [
    "# Let's compile the model\n",
    "\n",
    "###\n",
    "# REPLACE THE <addLoss> WITH 'categorical_crossentropy', <addOptimizer> WITH 'sgd', AND <addMetric> with 'accuracy' (INCLUDING THE QUOTES)\n",
    "###\n",
    "model.compile(loss = 'categorical_crossentropy', optimizer = 'sgd', metrics = ['accuracy'])\n",
    "###\n",
    "\n",
    "# Time to fit the model\n",
    "print('Starting training')\n",
    "\n",
    "###\n",
    "# REPLACE THE <addTrainX> WITH train_X AND <addTrainY> WITH train_Y\n",
    "###\n",
    "training_stats = model.fit(train_X, train_Y, batch_size = 1, epochs = 24, verbose = 0)\n",
    "###\n",
    "\n",
    "print('Training finished')\n",
    "print('Training Evaluation: loss = %0.3f, accuracy = %0.2f%%'\n",
    "      %(training_stats.history['loss'][-1], 100 * training_stats.history['acc'][-1]))"
   ]
  },
  {
   "cell_type": "markdown",
   "metadata": {},
   "source": [
    "See? Neural networks aren't too hard.\n",
    "\n",
    "`'adam'` is another popular optimizer if you want to try it instead of `'sgd'`\n",
    "\n",
    "#### Lets plot it! Run the cell below."
   ]
  },
  {
   "cell_type": "code",
   "execution_count": 7,
   "metadata": {},
   "outputs": [
    {
     "data": {
      "image/png": "[encoded data removed]",
      "text/plain": [
       "<Figure size 432x288 with 1 Axes>"
      ]
     },
     "metadata": {},
     "output_type": "display_data"
    }
   ],
   "source": [
    "# Run this!\n",
    "\n",
    "accuracy, = graph.plot(training_stats.history['acc'],label = 'Accuracy')\n",
    "training_loss, = graph.plot(training_stats.history['loss'],label = 'Training Loss')\n",
    "\n",
    "\n",
    "graph.legend(handles = [accuracy,training_loss])\n",
    "loss = np.array(training_stats.history['loss'])\n",
    "xp = np.linspace(0, loss.shape[0], 10 * loss.shape[0])\n",
    "graph.plot(xp, np.full(xp.shape, 1), c = 'k', linestyle = ':', alpha = 0.5)\n",
    "graph.plot(xp, np.full(xp.shape, 0), c = 'k', linestyle = ':', alpha = 0.5)\n",
    "graph.show()"
   ]
  },
  {
   "cell_type": "markdown",
   "metadata": {},
   "source": [
    "Step 6\n",
    "------\n",
    "\n",
    "Now that our model is trained and ready, let's see how it performs on our test data!\n",
    "\n",
    "It's important to test a model on data that it has never seen before, to make sure it doesn't overfit. Now let's evaluate it against the test set.\n",
    "\n",
    "### In the cell below replace:\n",
    "#### 1. `<addTestX>` with `test_X`\n",
    "#### 2. `<addTestY>` with `test_Y`\n",
    "#### and then __run the code__."
   ]
  },
  {
   "cell_type": "code",
   "execution_count": 8,
   "metadata": {},
   "outputs": [
    {
     "name": "stdout",
     "output_type": "stream",
     "text": [
      "Test Set Evaluation: loss = 0.568490, accuracy = 77.50\n"
     ]
    }
   ],
   "source": [
    "###\n",
    "# REPLACE <addTestX> WITH test_X AND <addTestY> with test_Y\n",
    "###\n",
    "evaluation = model.evaluate(test_X, test_Y, verbose=0)\n",
    "###\n",
    "\n",
    "print('Test Set Evaluation: loss = %0.6f, accuracy = %0.2f' %(evaluation[0], 100*evaluation[1]))"
   ]
  },
  {
   "cell_type": "markdown",
   "metadata": {},
   "source": [
    "It seems to be very accurate with the random seed that we set, but let's see how it predicts something completely new and unclassified!\n",
    "\n",
    "Come up with a brand new sample of the format `[age, weight, height]` to test it with.\n",
    "\n",
    "#### Replace the `<addNumber>`'s below with any numbers you want."
   ]
  },
  {
   "cell_type": "code",
   "execution_count": 9,
   "metadata": {},
   "outputs": [],
   "source": [
    "###\n",
    "# REPLACE THE <addNumber> BELOW WITH A WHATEVER NUMBERS YOU WANT, e.g. [9, 7, 7]\n",
    "###\n",
    "# [age, weight, height]\n",
    "new_sample = [9, 7, 7]\n",
    "###"
   ]
  },
  {
   "cell_type": "markdown",
   "metadata": {},
   "source": [
    "Let's have a look at where our new sample sits in comparison to our dataset.\n",
    "\n",
    "#### Replace the `<addNewSample>`'s below with `new_sample`"
   ]
  },
  {
   "cell_type": "code",
   "execution_count": 10,
   "metadata": {},
   "outputs": [
    {
     "data": {
      "image/png": "[encoded data removed]",
      "text/plain": [
       "<Figure size 432x288 with 1 Axes>"
      ]
     },
     "metadata": {},
     "output_type": "display_data"
    },
    {
     "data": {
      "image/png": "[encoded data removed]",
      "text/plain": [
       "<Figure size 432x288 with 1 Axes>"
      ]
     },
     "metadata": {},
     "output_type": "display_data"
    }
   ],
   "source": [
    "# Plots out the age-weight relationship\n",
    "\n",
    "###\n",
    "# REPLACE THE <addNewSample> BELOW WITH new_sample\n",
    "###\n",
    "graph.plot(new_sample[0], new_sample[1], 'ko', marker='x')\n",
    "###\n",
    "\n",
    "graph.scatter(train_X[:,0], train_X[:,1], c = labels[:160])\n",
    "graph.title('samples by age and weight')\n",
    "graph.xlabel('age')\n",
    "graph.ylabel('weight')\n",
    "graph.show()\n",
    "\n",
    "# Plot out the age-height relationship\n",
    "\n",
    "###\n",
    "# REPLACE THE <addNewSample> BELOW WITH new_sample\n",
    "###\n",
    "graph.plot(new_sample[0], new_sample[2], 'ko', marker='x')\n",
    "###\n",
    "\n",
    "graph.scatter(train_X[:,0], train_X[:,2], c = labels[:160])\n",
    "graph.title('samples by age and height')\n",
    "graph.xlabel('age')\n",
    "graph.ylabel('height')\n",
    "graph.show()"
   ]
  },
  {
   "cell_type": "markdown",
   "metadata": {},
   "source": [
    "Looks alright? Now let's see what breed of dog the model says it is!\n",
    "\n",
    "#### Replace `<addNewSample>` with `new_sample`"
   ]
  },
  {
   "cell_type": "code",
   "execution_count": 11,
   "metadata": {},
   "outputs": [
    {
     "name": "stdout",
     "output_type": "stream",
     "text": [
      "Breed prediction for [9, 7, 7]:\n",
      "[0.4  0.55 0.04]\n",
      "Breed 1, with 55% certainty.\n"
     ]
    }
   ],
   "source": [
    "###\n",
    "# REPLACE THE <addNewSample> BELOW WITH new_sample\n",
    "###\n",
    "predicted = model.predict(np.array([new_sample]))\n",
    "print('Breed prediction for %s:' %(new_sample))\n",
    "###\n",
    "\n",
    "print(np.around(predicted[0],2))\n",
    "print('Breed %s, with %i%% certainty.' %(np.argmax(predicted), np.round(100 * predicted[:, np.argmax(predicted)][0])))"
   ]
  },
  {
   "cell_type": "markdown",
   "metadata": {},
   "source": [
    "Breed `0` should be purple, breed `1` should be green, and breed `2` should be red."
   ]
  },
  {
   "cell_type": "markdown",
   "metadata": {},
   "source": [
    "Conclusion\n",
    "------\n",
    "\n",
    "We've built a simple neural network to help us predict dog breeds! In the next exercise we'll look into neural networks with a bit more depth, and at the factors that influence how well it learns.\n",
    "\n",
    "If you want to play around with this neural network and a new data set, just remember to set your input and output sizes correctly."
   ]
  }
 ],
 "metadata": {
  "kernelspec": {
   "display_name": "Python 3",
   "language": "python",
   "name": "python3"
  },
  "language_info": {
   "codemirror_mode": {
    "name": "ipython",
    "version": 3
   },
   "file_extension": ".py",
   "mimetype": "text/x-python",
   "name": "python",
   "nbconvert_exporter": "python",
   "pygments_lexer": "ipython3",
   "version": "3.7.6"
  },
  "toc": {
   "base_numbering": 1,
   "nav_menu": {},
   "number_sections": true,
   "sideBar": true,
   "skip_h1_title": false,
   "title_cell": "Table of Contents",
   "title_sidebar": "Contents",
   "toc_cell": false,
   "toc_position": {},
   "toc_section_display": true,
   "toc_window_display": false
  }
 },
 "nbformat": 4,
 "nbformat_minor": 4
}
