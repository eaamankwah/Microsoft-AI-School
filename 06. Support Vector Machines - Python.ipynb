{
 "cells": [
  {
   "cell_type": "markdown",
   "metadata": {},
   "source": [
    "Exercise 6 - Support Vector Machines\n",
    "=====\n",
    "\n",
    "Support vector machines (SVMs) let us predict categories. This exercise will demonstrate a simple support vector machine that can predict a category from a small number of features. \n",
    "\n",
    "Our problem is that we want to be able to categorise which type of tree an new specimen belongs to. To do this, we will use features of three different types of trees to train an SVM. \n",
    "\n",
    "__Run the code__ in the cell below."
   ]
  },
  {
   "cell_type": "code",
   "execution_count": null,
   "metadata": {},
   "outputs": [],
   "source": [
    "# Run this code!\n",
    "# It sets up the graphing configuration.\n",
    "import warnings\n",
    "warnings.filterwarnings(\"ignore\")\n",
    "import matplotlib.pyplot as graph\n",
    "%matplotlib inline\n",
    "graph.rcParams['figure.figsize'] = (15,5)\n",
    "graph.rcParams[\"font.family\"] = 'DejaVu Sans'\n",
    "graph.rcParams[\"font.size\"] = '12'\n",
    "graph.rcParams['image.cmap'] = 'rainbow'"
   ]
  },
  {
   "cell_type": "markdown",
   "metadata": {},
   "source": [
    "Step 1\n",
    "-----\n",
    "\n",
    "First, we will take a look at the raw data first to see what features we have.\n",
    "\n",
    "#### Replace `<printDataHere>` with `print(dataset.head())` and then __run the code__."
   ]
  },
  {
   "cell_type": "code",
   "execution_count": null,
   "metadata": {},
   "outputs": [],
   "source": [
    "import pandas as pd\n",
    "import numpy as np\n",
    "\n",
    "# Loads the SVM library\n",
    "from sklearn import svm\n",
    "\n",
    "# Loads the dataset\n",
    "dataset = pd.read_csv('Data/trees.csv')\n",
    "\n",
    "###\n",
    "# REPLACE <printDataHere> with print(dataset.head()) TO PREVIEW THE DATASET\n",
    "###\n",
    "<printDataHere>\n",
    "###"
   ]
  },
  {
   "cell_type": "markdown",
   "metadata": {},
   "source": [
    "It looks like we have _four features_ (leaf_width, leaf_length, trunk_girth, trunk_height) and _one label_ (tree_type).\n",
    "\n",
    "Let's plot it.\n",
    "\n",
    "__Run the code__ in the cell below."
   ]
  },
  {
   "cell_type": "code",
   "execution_count": null,
   "metadata": {},
   "outputs": [],
   "source": [
    "# Run this code to plot the leaf features\n",
    "\n",
    "# This extracts the features. drop() deletes the column we state (tree_type), leaving on the features\n",
    "allFeatures = dataset.drop(['tree_type'], axis = 1)\n",
    "\n",
    "# This keeps only the column we state (tree_type), leaving only our label\n",
    "labels = np.array(dataset['tree_type'])\n",
    "\n",
    "#Plots the graph\n",
    "X=allFeatures['leaf_width']\n",
    "Y=allFeatures['leaf_length']\n",
    "color=labels\n",
    "graph.scatter(X, Y, c = color)\n",
    "graph.title('classification plot for leaf features')\n",
    "graph.xlabel('leaf width')\n",
    "graph.ylabel('leaf length')\n",
    "graph.legend()\n",
    "graph.show()"
   ]
  },
  {
   "cell_type": "markdown",
   "metadata": {},
   "source": [
    "__Run the code__ in the cell below to plot the trunk features"
   ]
  },
  {
   "cell_type": "code",
   "execution_count": null,
   "metadata": {},
   "outputs": [],
   "source": [
    "# Run this code to plot the trunk features\n",
    "graph.scatter(allFeatures['trunk_girth'], allFeatures['trunk_height'], c = labels)\n",
    "graph.title('Classification plot for trunk features')\n",
    "graph.xlabel('trunk girth')\n",
    "graph.ylabel('trunk height')\n",
    "graph.show()"
   ]
  },
  {
   "cell_type": "markdown",
   "metadata": {},
   "source": [
    "Step 2\n",
    "-----\n",
    "\n",
    "Lets make a support vector machine.\n",
    "\n",
    "The syntax for a support vector machine is as follows:\n",
    "\n",
    "__`model = svm.SVC().fit(features, labels)`__\n",
    "\n",
    "Your features set will be called __`train_X`__ and your labels set will be called __`train_Y`__\n",
    "\n",
    "#### Let's first run the SVM in the cell below using the first two features, the leaf features."
   ]
  },
  {
   "cell_type": "code",
   "execution_count": null,
   "metadata": {},
   "outputs": [],
   "source": [
    "# Sets up the feature and target sets for leaf features\n",
    "\n",
    "# Feature 1\n",
    "feature_one = allFeatures['leaf_width'].values\n",
    "\n",
    "# Feature 2\n",
    "feature_two = allFeatures['leaf_length'].values\n",
    "\n",
    "# Features\n",
    "train_X = np.asarray([feature_one, feature_two]).transpose()\n",
    "\n",
    "# Labels\n",
    "train_Y = labels \n",
    "\n",
    "# Fits the SVM model\n",
    "###--- REPLACE THE <makeSVM> WITH THE CODE TO MAKE A SVM MODEL AS ABOVE ---###\n",
    "model = <makeSVM>\n",
    "###\n",
    "print(\"Model ready. Now plot it to see the result.\")"
   ]
  },
  {
   "cell_type": "markdown",
   "metadata": {},
   "source": [
    "#### Let's plot it! Run the cell below to visualise the SVM with our dataset."
   ]
  },
  {
   "cell_type": "code",
   "execution_count": null,
   "metadata": {},
   "outputs": [],
   "source": [
    "# Run this to plots the SVM model\n",
    "X_min, X_max = X[:, 0].min() - 1, X[:, 0].max() + 1\n",
    "Y_min, Y_max = X[:, 1].min() - 1, X[:, 1].max() + 1\n",
    "\n",
    "XX, YY = np.meshgrid(np.arange(X_min, X_max, .02), np.arange(Y_min, Y_max, .02))\n",
    "Z = model.predict(np.c_[XX.ravel(), YY.ravel()]).reshape(XX.shape)\n",
    "\n",
    "graph.scatter(X1, X2, c = Y, cmap = graph.cm.rainbow, zorder = 10, edgecolor = 'k', s = 40)\n",
    "graph.contourf(XX, YY, Z, cmap = graph.cm.rainbow, alpha = 1.0)\n",
    "graph.contour(XX, YY, Z, colors = 'k', linestyles = '--', alpha=0.5)\n",
    "\n",
    "graph.title('SVM plot for leaf features')\n",
    "graph.xlabel('leaf width')\n",
    "graph.ylabel('leaf length')\n",
    "\n",
    "graph.show()"
   ]
  },
  {
   "cell_type": "markdown",
   "metadata": {},
   "source": [
    "The graph shows three colored zones that the SVM has chosen to group the datapoints in. Color, here, means type of tree. As we can see, the zones correspond reasonably well with the actual tree types of our training data. This means that the SVM can group, for its training data, quite well calculate tree type based on leaf features.\n",
    "\n",
    "\n",
    "Now let's do the same using trunk features.\n",
    "\n",
    "### In the cell below replace:\n",
    "#### 1. `<addTrunkGirth>` with `'trunk_girth'`\n",
    "#### 2. `<addTrunkHeight>` with `'trunk_height'`\n",
    "#### Then __run the code__."
   ]
  },
  {
   "cell_type": "code",
   "execution_count": null,
   "metadata": {},
   "outputs": [],
   "source": [
    "# Feature 1\n",
    "###\n",
    "# REPLACE THE <addTrunkGirth> BELOW WITH 'trunk_girth' (INCLUDING THE QUOTES)\n",
    "###\n",
    "trunk_girth = features['trunk_girth'].values\n",
    "###\n",
    "\n",
    "# Feature 2\n",
    "###--- REPLACE THE <addTrunkHeight> BELOW WITH 'trunk_height' (INCLUDING THE QUOTES) ---###\n",
    "trunk_height = features['trunk_height'].values\n",
    "###\n",
    "\n",
    "# Features\n",
    "trunk_features = np.asarray([trunk_girth, trunk_height]).transpose()\n",
    "\n",
    "# Fits the SVM model\n",
    "model = svm.SVC().fit(trunk_features, train_Y)\n",
    "\n",
    "# Plots the SVM model\n",
    "X_min, X_max = trunk_features[:, 0].min() - 1, trunk_features[:, 0].max() + 1\n",
    "Y_min, Y_max = trunk_features[:, 1].min() - 1, trunk_features[:, 1].max() + 1\n",
    "\n",
    "XX, YY = np.meshgrid(np.arange(X_min, X_max, .02), np.arange(Y_min, Y_max, .02))\n",
    "Z = model.predict(np.c_[XX.ravel(), YY.ravel()]).reshape(XX.shape)\n",
    "\n",
    "graph.scatter(trunk_girth, trunk_height, c = train_Y, cmap = graph.cm.rainbow, zorder = 10, edgecolor = 'k', s = 40)\n",
    "graph.contourf(XX, YY, Z, cmap = graph.cm.rainbow, alpha = 1.0)\n",
    "graph.contour(XX, YY, Z, colors = 'k', linestyles = '--', alpha = 0.5)\n",
    "\n",
    "graph.title('SVM plot for leaf features')\n",
    "graph.xlabel('trunk girth')\n",
    "graph.ylabel('trunk height')\n",
    "\n",
    "graph.show()"
   ]
  },
  {
   "cell_type": "markdown",
   "metadata": {},
   "source": [
    "Conclusion\n",
    "-------\n",
    "\n",
    "And that's it! You've made a simple support vector machine that can predict the type of tree based on the leaf and trunk measurements!\n",
    "\n",
    "You can go back to the course now and click __'Next Step'__ to move onto how we can test AI models."
   ]
  }
 ],
 "metadata": {
  "kernelspec": {
   "display_name": "Python 3",
   "language": "python",
   "name": "python3"
  },
  "language_info": {
   "codemirror_mode": {
    "name": "ipython",
    "version": 3
   },
   "file_extension": ".py",
   "mimetype": "text/x-python",
   "name": "python",
   "nbconvert_exporter": "python",
   "pygments_lexer": "ipython3",
   "version": "3.7.6"
  }
 },
 "nbformat": 4,
 "nbformat_minor": 4
}
