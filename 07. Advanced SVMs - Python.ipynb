{
 "cells": [
  {
   "cell_type": "markdown",
   "metadata": {},
   "source": [
    "Exercise 7 - Advanced Support Vector Machines\n",
    "=====\n",
    "\n",
    "Support vector machines let us predict catergories. In this example we will be looking at practically using SVMs by formatting data correctly, visualising the SVM model and then evaluating the SVM model.\n",
    "\n",
    "We will be looking at __prions__ - misfolded proteins that are associated with several fatal neurodegenerative diseases (kind of like Daleks, if you have seen Doctor Who). Looking at examples of proteins mass and weight, we will build a predictive model to detect prions in blood samples.\n",
    "\n",
    "#### Run the code below to set up the graphing features for this notebook."
   ]
  },
  {
   "cell_type": "code",
   "execution_count": null,
   "metadata": {},
   "outputs": [],
   "source": [
    "# Run this code!\n",
    "# It sets up the graphing configuration\n",
    "import warnings\n",
    "warnings.filterwarnings(\"ignore\")\n",
    "import matplotlib.pyplot as graph\n",
    "%matplotlib inline\n",
    "graph.rcParams['figure.figsize'] = (15,5)\n",
    "graph.rcParams[\"font.family\"] = 'DejaVu Sans'\n",
    "graph.rcParams[\"font.size\"] = '12'\n",
    "graph.rcParams['image.cmap'] = 'rainbow'"
   ]
  },
  {
   "cell_type": "markdown",
   "metadata": {},
   "source": [
    "Step 1\n",
    "-----\n",
    "\n",
    "Lets load up the data first, and save it temporarily as rawData. Our dataset is called \"PrionData.csv\".\n",
    "\n",
    "#### Replace `<addPathToData>`  with `'Data/PrionData.csv'` and then __Run the code__."
   ]
  },
  {
   "cell_type": "code",
   "execution_count": null,
   "metadata": {},
   "outputs": [],
   "source": [
    "import pandas as pd\n",
    "import numpy as np\n",
    "\n",
    "###\n",
    "# REPLACE <addPathToData> BELOW WITH 'Data/PrionData.csv' (INCLUDING THE QUOTES) TO LOAD THE DATA FROM THAT FILE \n",
    "###\n",
    "rawData = pd.read_csv(<addPathToData>)\n",
    "###"
   ]
  },
  {
   "cell_type": "markdown",
   "metadata": {},
   "source": [
    "Step 2\n",
    "-----\n",
    "\n",
    "Lets take a look at the data.\n",
    "\n",
    "#### In the cell below replace the text `<printDataHere>` with `print(rawData.head())` and then __Run the code__."
   ]
  },
  {
   "cell_type": "code",
   "execution_count": null,
   "metadata": {},
   "outputs": [],
   "source": [
    "###\n",
    "# REPLACE <printDataHere> with print(myData.head()) TO VIEW THE TOP 5 DATA POINTS OF THE DATA SET\n",
    "###\n",
    "<printDataHere>\n",
    "###"
   ]
  },
  {
   "cell_type": "markdown",
   "metadata": {},
   "source": [
    "Looks like we have an extra column, this happens regularly when exporting data sets from a program like Excel and then importing them into a dataframe.\n",
    "\n",
    "Step 3\n",
    "-----\n",
    "\n",
    "Lets get rid of that extra column, and then check that it's gone.\n",
    "\n",
    "#### __Run the code__ below."
   ]
  },
  {
   "cell_type": "code",
   "execution_count": null,
   "metadata": {},
   "outputs": [],
   "source": [
    "# Run this box to remove the extra column.\n",
    "dataset = allData.drop(['Unnamed: 0'], axis = 1)\n",
    "print(dataset.head())"
   ]
  },
  {
   "cell_type": "markdown",
   "metadata": {},
   "source": [
    "All gone!\n",
    "\n",
    "Step 4\n",
    "-----\n",
    "\n",
    "Let's graph the data set to better understand what we're working with.\n",
    "\n",
    "Looking at the output of the last step we can see the 'categories' we're looking at is called __prion_status__ (the label).\n",
    "\n",
    "### In the cell below replace:\n",
    "#### 1. `<addMass>` with `'mass'`\n",
    "#### 2. `<addWeight>` with `'weight'`\n",
    "#### then __run the code__.\n"
   ]
  },
  {
   "cell_type": "code",
   "execution_count": null,
   "metadata": {},
   "outputs": [],
   "source": [
    "###\n",
    "# REPLACE THE <addMass> BELOW WITH 'mass' (INCLUDING THE QUOTES)\n",
    "###\n",
    "X = dataset[<addMass>]\n",
    "###\n",
    "\n",
    "##\n",
    "# REPLACE THE <addWeight> BELOW WITH 'weight' (INCLUDING THE QUOTES)\n",
    "###\n",
    "Y = dataset[<addWeight>]\n",
    "###\n",
    "\n",
    "# This makes a list that says which items are prions and which are not\n",
    "target = dataset['prion_status'] == 'prion'\n",
    "\n",
    "graph.scatter(X, Y, c = target, zorder = 10, s = 40)\n",
    "\n",
    "graph.title(\"Classification plot for prion data\")\n",
    "graph.ylabel(\"Mass\")\n",
    "graph.xlabel(\"Weight\")\n",
    "\n",
    "graph.show()"
   ]
  },
  {
   "cell_type": "markdown",
   "metadata": {},
   "source": [
    "Step 5\n",
    "-------\n",
    "\n",
    "Let's split up our data into test and training sets. We'll start by checking the total number of instances in our dataset by using the DataFrame attribute *shape*. The first number is the one we want.\n",
    "\n",
    "#### In the cell below replace `<addShape>` with `shape` and then __Run the code__."
   ]
  },
  {
   "cell_type": "code",
   "execution_count": null,
   "metadata": {},
   "outputs": [],
   "source": [
    "###\n",
    "# REPLACE THE <addShape> BELOW WITH THE NAME OF THE ATTRIBUTE WE WANT TO LOOK AT - shape\n",
    "###\n",
    "dataset.<addShape>\n",
    "###"
   ]
  },
  {
   "cell_type": "markdown",
   "metadata": {},
   "source": [
    "Step 6\n",
    "-----\n",
    "\n",
    "Step 5 has told us that we have nearly 500 data points. We'll use 400 examples for our training set, and the remainder for our test set.\n",
    "\n",
    "#### Replace the `<add400>` below with `400` and run the cell."
   ]
  },
  {
   "cell_type": "code",
   "execution_count": null,
   "metadata": {},
   "outputs": [],
   "source": [
    "# This makes our training set out of the first 400 examples\n",
    "train_X = dataset.drop(['prion_status'], 1).truncate(after = 399)\n",
    "train_Y = dataset['prion_status'].truncate(after = 399)\n",
    "\n",
    "###\n",
    "# REPLACE THE <add400> BELOW WITH 400 TO MAKE THE TEST SET OUT OF THE REMAINING EXAMPLES\n",
    "###\n",
    "test_X = dataset.drop(['prion_status'], 1).truncate(before = <add400>).reset_index(drop = True)\n",
    "test_Y = dataset['prion_status'].truncate(before = <add400>).reset_index(drop = True)\n",
    "###"
   ]
  },
  {
   "cell_type": "markdown",
   "metadata": {},
   "source": [
    "Step 7\n",
    "-----\n",
    "\n",
    "Well done! Lets look at a summary of our training data.\n",
    "\n",
    "#### In the cell below replace `<addDescribe>` with `describe()` then __run the code__."
   ]
  },
  {
   "cell_type": "code",
   "execution_count": null,
   "metadata": {},
   "outputs": [],
   "source": [
    "###\n",
    "# REPLACE THE <addDescribe> BELOW WITH 'describe()'\n",
    "###\n",
    "print(train_X.<addDescribe>)\n",
    "print(train_Y.<addDescribe>)\n",
    "###"
   ]
  },
  {
   "cell_type": "markdown",
   "metadata": {},
   "source": [
    "314 non-prions out of 400, which means there's 86 prions in there. That looks about right if we refer to the graph we made in Step 4.\n",
    "\n",
    "Let's take a look at our test set too.\n",
    "\n",
    "#### Use the `describe()` function again, this time looking at __test__ instead of train."
   ]
  },
  {
   "cell_type": "code",
   "execution_count": null,
   "metadata": {},
   "outputs": [],
   "source": [
    "###\n",
    "# REPLACE THE <addDescribe> BELOW WITH describe()\n",
    "###\n",
    "print(test_X.<addDescribe>)\n",
    "print(test_Y.<addDescribe>)\n",
    "###"
   ]
  },
  {
   "cell_type": "markdown",
   "metadata": {},
   "source": [
    "Looks good to me! Alright, enough of that - lets make an SVM.\n",
    "\n",
    "Step 8\n",
    "-----\n",
    "\n",
    "Below we will make an SVM, similar to the previous exercise.\n",
    "\n",
    "Remember, the syntax for SVM's is:\n",
    "\n",
    "`SVM_Model = svm.SVC().fit(features, labels)`\n",
    "\n",
    "### In the cell below replace:\n",
    "#### 1. `<addFeatures>` with `train_X`\n",
    "#### 2. `<addLabels>` with `train_Y`\n",
    "#### and then __run the code__."
   ]
  },
  {
   "cell_type": "code",
   "execution_count": null,
   "metadata": {},
   "outputs": [],
   "source": [
    "from sklearn import svm\n",
    "\n",
    "###\n",
    "# REPLACE <addFeatures> WITH train_X and <addLabels> WITH train_Y\n",
    "###\n",
    "SVM_Model = svm.SVC(gamma = 'auto').fit(<addFeatures>, <addLabels>)\n",
    "###\n",
    "print(\"done!\")"
   ]
  },
  {
   "cell_type": "markdown",
   "metadata": {},
   "source": [
    "Well done! We've made a SVM Model from our training set.\n",
    "\n",
    "Step 9\n",
    "-----\n",
    "\n",
    "Lets use our model to make some predictions. __Run the code__ in the cell below."
   ]
  },
  {
   "cell_type": "code",
   "execution_count": null,
   "metadata": {},
   "outputs": [],
   "source": [
    "# Don't edit this! Just hit run to plot the graph\n",
    "\n",
    "\n",
    "#This makes a plot of our SVM\n",
    "def plot_SVM(clf, data, target):\n",
    "    #Make a list of which are prions\n",
    "    is_prion = target == 'prion'\n",
    "\n",
    "    graph.scatter(data['mass'], data['weight'], c = is_prion, zorder = 10, edgecolor = 'k', s = 40)\n",
    "    \n",
    "    # Put the result into a colour plot\n",
    "    XX, YY = np.mgrid[0:1:255j, 0:1:255j]\n",
    "    Z = clf.decision_function(np.c_[XX.ravel(), YY.ravel()]).reshape(XX.shape)\n",
    "    graph.pcolormesh(XX, YY, Z > 0)\n",
    "    graph.contour(XX, YY, Z, colors = ['k', 'k', 'k'], linestyles = ['--', '-', '--'], levels = [-.5, 0, .5])\n",
    "    \n",
    "    graph.ylim(0, 1)\n",
    "    graph.xlim(0, 1)\n",
    "    \n",
    "    graph.show()\n",
    "\n",
    "#Call the code to plot our SVM\n",
    "plot_SVM(SVM_Model, train_X, train_Y)"
   ]
  },
  {
   "cell_type": "markdown",
   "metadata": {},
   "source": [
    "Step 10\n",
    "-------\n",
    "\n",
    "The SVM has done a reasonable job of separating our test dataset into two. Now lets take a look at our test set.\n",
    "\n",
    "Remember our syntax for plotting SVM's is: `plot_SVM(SVM_Model, features, labels)`\n",
    "\n",
    "Add our __test__ set below to see how it looks.\n",
    "\n",
    "### In the cell below replace:\n",
    "#### 1. `<addTestX>` with `test_X`\n",
    "#### 2. `<addTestY>` with `test_Y`\n",
    "#### and then __run the code__."
   ]
  },
  {
   "cell_type": "code",
   "execution_count": null,
   "metadata": {},
   "outputs": [],
   "source": [
    "###\n",
    "# REPLACE <addTestX> WITH test_X AND <addTestY> WITH test_Y\n",
    "###\n",
    "plot_SVM(SVM_Model, <addTestX>, <addTestY>)\n",
    "###"
   ]
  },
  {
   "cell_type": "markdown",
   "metadata": {},
   "source": [
    "Step 11\n",
    "-----\n",
    "\n",
    "Graphing is a good way to see how our model has done, but sometimes numbers can be better. Lets calculate the accuracy of our SVM in each dataset.\n",
    "\n",
    "### In the cell below replace:\n",
    "#### 1. `<addTrainX>` with `train_X`\n",
    "#### 2. `<addTestX>` with `test_X`\n",
    "#### 3. `<addTrainY>` with `train_Y`\n",
    "#### 4. `<addTestY>` with `test_Y`\n",
    "#### and then __run the code__."
   ]
  },
  {
   "cell_type": "code",
   "execution_count": null,
   "metadata": {},
   "outputs": [],
   "source": [
    "###\n",
    "# REPLACE <addTrainX> WITH train_X AND <addTestX> with test_X FEATURE SETS TO GENERATE THE PREDICTIONS\n",
    "###\n",
    "train_P = SVM_Model.predict(<addTrainX>.values)\n",
    "test_P = SVM_Model.predict(<addTestX>.values)\n",
    "###\n",
    "\n",
    "# This function evaluates the SVM's accuracy\n",
    "def evaluate_SVM(pred, real, name):\n",
    "    matches = pred == real #see where predicted and real are the same\n",
    "    accuracy = sum(matches)/len(matches)*100 #convert to percent\n",
    "    print(name, \"Set Accuracy:\", accuracy, \"%\") \n",
    "\n",
    "\n",
    "###\n",
    "# REPLACE <addTrainY> WITH train_Y AND <addTestY> with test_Y\n",
    "###\n",
    "evaluate_SVM(train_P, <addTrainY>, 'Train')\n",
    "evaluate_SVM(test_P, <addTestY>, 'Test')\n",
    "###"
   ]
  },
  {
   "cell_type": "markdown",
   "metadata": {},
   "source": [
    "That's a good result. \n",
    "\n",
    "Conclusion\n",
    "------\n",
    "\n",
    "Well done! We've taken a data set, cleaned and prepared it, made a SVM, and then evaluated it. Well done!\n",
    "\n",
    "You can go back to the course now, or you can try using different kernels with your SVM below.\n",
    "\n",
    "OPTIONAL: Step 12\n",
    "-----\n",
    "\n",
    "Want to have a play around with different kernels for your SVM models? It's really easy!\n",
    "\n",
    "The standard kernel is a Radial Basis Function kernel. But there's a few more you can choose from - linear (`linear`), polynomial (`poly`), and sigmoid (`sigmoid`). Lets try them out.\n",
    "\n",
    "If you wanted to use a linear kernel, all you need to do is add `kernel='linear'` to your model. Like this:\n",
    "\n",
    "`SVM_Model = svm.SVC(kernel='linear')`\n",
    "\n",
    "Give it a go with all the different kernels below. The first one is done for you\n",
    "\n",
    "#### Run the cell below"
   ]
  },
  {
   "cell_type": "code",
   "execution_count": null,
   "metadata": {},
   "outputs": [],
   "source": [
    "def assess_SVM(SVM_Model):\n",
    "    # Plot the new linear SVM model\n",
    "    plot_SVM(SVM_Model, train_X, train_Y)\n",
    "    plot_SVM(SVM_Model, test_X, test_Y)\n",
    "\n",
    "    # Use the model to predict the training and test sets.\n",
    "    train_P = SVM_Model.predict(train_X.values)\n",
    "    test_P = SVM_Model.predict(test_X.values)\n",
    "\n",
    "    # Evaluate the model using the training and test sets\n",
    "    evaluate_SVM(train_P, train_Y, 'Train')\n",
    "    evaluate_SVM(test_P, test_Y, 'Test')\n",
    "\n",
    "# Make a new linear SVM model\n",
    "SVM_Model = svm.SVC(kernel = 'linear').fit(train_X, train_Y)\n",
    "\n",
    "assess_SVM(SVM_Model)"
   ]
  },
  {
   "cell_type": "markdown",
   "metadata": {},
   "source": [
    "You can see the hyperplane is a linear line!\n",
    "\n",
    "Now lets try a sigmoid kernel.\n",
    "\n",
    "#### Replace `<replaceThis>` with `'sigmoid'` then run the cell."
   ]
  },
  {
   "cell_type": "code",
   "execution_count": null,
   "metadata": {},
   "outputs": [],
   "source": [
    "# Make a new sigmoid SVM model\n",
    "\n",
    "###\n",
    "# REPLACE THE <replaceThis> BELOW WITH 'sigmoid' (INCLUDING THE QUOTES)\n",
    "###\n",
    "SVM_Model = svm.SVC(kernel = <replaceThis>, gamma = 4, coef0 = 0).fit(train_X, train_Y)\n",
    "###\n",
    "assess_SVM(SVM_Model)"
   ]
  },
  {
   "cell_type": "markdown",
   "metadata": {},
   "source": [
    "Perhaps a sigmoid kernel isn't a good idea for this data set....\n",
    "\n",
    "Lets try a polynomial kernel\n",
    "\n",
    "#### Replace `<replaceWithPoly>` with `'polynomial'` then run the cell."
   ]
  },
  {
   "cell_type": "code",
   "execution_count": null,
   "metadata": {},
   "outputs": [],
   "source": [
    "# Make a new polynomial SVM model\n",
    "\n",
    "###\n",
    "# REPLACE THE <replaceWithPoly> BELOW WITH 'poly' (INCLUDING THE QUOTES)\n",
    "###\n",
    "SVM_Model = svm.SVC(kernel = <replaceWithPoly>, gamma = 10, degree = 3, coef0 = 0).fit(train_X, train_Y)\n",
    "###\n",
    "\n",
    "assess_SVM(SVM_Model)"
   ]
  },
  {
   "cell_type": "markdown",
   "metadata": {},
   "source": [
    "If we were to carry on analyzing prions like this, polynomial looks like a good choice. If the data set was more complicated we could try different degrees for the polynomial to see which one was the most accurate. This is part of __`tuning`__ a model.\n",
    "\n",
    "Well done!"
   ]
  }
 ],
 "metadata": {
  "kernelspec": {
   "display_name": "Python 3",
   "language": "python",
   "name": "python3"
  },
  "language_info": {
   "codemirror_mode": {
    "name": "ipython",
    "version": 3
   },
   "file_extension": ".py",
   "mimetype": "text/x-python",
   "name": "python",
   "nbconvert_exporter": "python",
   "pygments_lexer": "ipython3",
   "version": "3.7.6"
  }
 },
 "nbformat": 4,
 "nbformat_minor": 4
}
