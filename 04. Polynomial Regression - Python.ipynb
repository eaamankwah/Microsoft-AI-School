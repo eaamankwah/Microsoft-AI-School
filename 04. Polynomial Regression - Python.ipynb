{
 "cells": [
  {
   "cell_type": "markdown",
   "metadata": {},
   "source": [
    "Exercise 4 - Polynomial Regression\n",
    "========\n",
    "\n",
    "Sometimes our data doesn't have a linear relationship, but we still want to predict an outcome.\n",
    "\n",
    "Suppose we want to predict how satisfied people might be with a piece of fruit, we would expect satisfaction would be low if the fruit was under ripened or over ripened. Satisfaction would be high in between underripened and overripened.\n",
    "\n",
    "This is not something linear regression will help us with, so we can turn to polynomial regression to help us make predictions for these more complex non-linear relationships!"
   ]
  },
  {
   "cell_type": "markdown",
   "metadata": {},
   "source": [
    "Step 1\n",
    "------\n",
    "\n",
    "In this exercise we will look at a dataset analysing internet traffic over the course of the day. Observations were made every hour over the course of several days. Suppose we want to predict the level of traffic we might see at any time during the day, how might we do this?\n",
    "\n",
    "Let's start by opening up our data and having a look at it.\n",
    "\n",
    "#### In the cell below replace the text `<printDataHere>` with `print(dataset.head())`, and __run the code__ to see the data."
   ]
  },
  {
   "cell_type": "code",
   "execution_count": null,
   "metadata": {},
   "outputs": [],
   "source": [
    "# This sets up the graphing configuration\n",
    "import warnings\n",
    "warnings.filterwarnings(\"ignore\")\n",
    "import matplotlib.pyplot as graph\n",
    "%matplotlib inline\n",
    "graph.rcParams['figure.figsize'] = (15,5)\n",
    "graph.rcParams[\"font.family\"] = \"DejaVu Sans\"\n",
    "graph.rcParams[\"font.size\"] = \"12\"\n",
    "graph.rcParams['image.cmap'] = 'rainbow'\n",
    "graph.rcParams['axes.facecolor'] = 'white'\n",
    "graph.rcParams['figure.facecolor'] = 'white'\n",
    "import numpy as np\n",
    "import pandas as pd\n",
    "\n",
    "dataset = pd.read_csv('Data/traffic_by_hour.csv')\n",
    "\n",
    "###\n",
    "# BELOW, REPLACE <printDataHere> WITH print(dataset.head()) TO PREVIEW THE DATASET ---###\n",
    "###\n",
    "<printDataHere>\n",
    "###"
   ]
  },
  {
   "cell_type": "markdown",
   "metadata": {},
   "source": [
    "Step 2\n",
    "-----\n",
    "\n",
    "Next we're going to flip the data with the transpose method - our rows will become columns and our columns will become rows. Transpose is commonly used to reshape data so we can use it. Let's try it out.\n",
    "\n",
    "#### In the cell below find the text `<addCallToTranspose>` and replace it with `transpose`"
   ]
  },
  {
   "cell_type": "code",
   "execution_count": null,
   "metadata": {},
   "outputs": [],
   "source": [
    "### \n",
    "# REPLACE THE <addCallToTranspose> BELOW WITH transpose\n",
    "###\n",
    "dataset_T = np.<addCallToTranspose>(data)\n",
    "###\n",
    "\n",
    "print(dataset_T)"
   ]
  },
  {
   "cell_type": "markdown",
   "metadata": {},
   "source": [
    "Now lets visualize the data. \n",
    "\n",
    "#### Replace the text `<addSampleHere>` with `sample` and then __run the code__."
   ]
  },
  {
   "cell_type": "code",
   "execution_count": null,
   "metadata": {
    "scrolled": true
   },
   "outputs": [],
   "source": [
    "# Let's visualise the data!\n",
    "\n",
    "###\n",
    "# REPLACE <addSampleHere> BELOW WITH sample\n",
    "###\n",
    "for sample in range(0, dataset_T.shape[1]):\n",
    "    graph.plot(data.columns.values, data_t[sample])\n",
    "###\n",
    "\n",
    "graph.xlabel('Time of day')\n",
    "graph.ylabel('Internet traffic (Gbps)')\n",
    "graph.show()"
   ]
  },
  {
   "cell_type": "markdown",
   "metadata": {},
   "source": [
    "Step 3\n",
    "-----\n",
    "\n",
    "This all looks a bit busy, let's see if we can draw out a clearer pattern by taking the __average values__ for each hour.\n",
    "\n",
    "#### In the cell below find all occurances of `<replaceWithHour>` and replace them with `hour` and then __run the code__."
   ]
  },
  {
   "cell_type": "code",
   "execution_count": null,
   "metadata": {},
   "outputs": [],
   "source": [
    "# We want to look at the mean values for each hour.\n",
    "\n",
    "hours = dataset.columns.values\n",
    "\n",
    "###\n",
    "# REPLACE THE <replaceWithHour>'s BELOW WITH hour\n",
    "###\n",
    "train_Y = [dataset[<replaceWithHour>].mean() for <replaceWithHour> in hours]  # This will be our outcome we measure (label) - amount of internet traffic\n",
    "train_X = np.transpose([int(<replaceWithHour>) for <replaceWithHour> in hours]) # This is our feature - time of day\n",
    "###\n",
    "\n",
    "# This makes our graph, don't edit!\n",
    "graph.scatter(traing_X, train_Y)\n",
    "for sample in range(0,dataset_T.shape[1]):\n",
    "    graph.plot(hours, dataset_T[sample], alpha=0.25)\n",
    "graph.xlabel('Time of day')\n",
    "graph.ylabel('Internet traffic (Gbps)')\n",
    "graph.show()"
   ]
  },
  {
   "cell_type": "markdown",
   "metadata": {},
   "source": [
    "This alone could help us make a prediction if we wanted to know the expected traffic exactly on the hour.\n",
    "\n",
    "But, we'll need to be a bit more clever if we want to make a __good__ prediction of times in between."
   ]
  },
  {
   "cell_type": "markdown",
   "metadata": {},
   "source": [
    "Step 4\n",
    "------\n",
    "\n",
    "Let's use the midpoints in between the hours to analyse the relationship between the __time of day__ and the __amount of internet traffic__.\n",
    "\n",
    "Numpy's `polyfit(x,y,d)` function allows us to do polynomial regression, or more precisely least squares polynomial fit.\n",
    "\n",
    "We specify a __feature $x$ (time of day)__, our __label $y$ (the amount of traffic)__, and the __degree $d$ of the polynomial (how curvy the line is)__.\n",
    "\n",
    "#### In the cell below find the text `<replaceWithDegree>`, replace it with the value `1` then __run the code__."
   ]
  },
  {
   "cell_type": "code",
   "execution_count": null,
   "metadata": {},
   "outputs": [],
   "source": [
    "# Polynomials of degree 1 are linear!\n",
    "# Lets include this one just for comparison\n",
    "\n",
    "###\n",
    "# REPLACE THE <replaceWithDegree> BELOW WITH 1\n",
    "###\n",
    "poly_1 = np.polyfit(train_X, train_Y, <replaceWithDegree>)\n",
    "###"
   ]
  },
  {
   "cell_type": "markdown",
   "metadata": {},
   "source": [
    "Let's also compare a few higher-degree polynomials.\n",
    "\n",
    "#### Replace the `<replaceWithDegree>`'s below with numbers, as directed in the comments."
   ]
  },
  {
   "cell_type": "code",
   "execution_count": null,
   "metadata": {
    "scrolled": true
   },
   "outputs": [],
   "source": [
    "###\n",
    "# REPLACE THE <replaceWithDegree>'s BELOW WITH 2, 3, AND THEN 4\n",
    "###\n",
    "poly_2 = np.polyfit(train_X, train_Y, <replaceWithDegree>)\n",
    "poly_3 = np.polyfit(train_X, train_Y, <replaceWithDegree>)\n",
    "poly_4 = np.polyfit(train_X, train_Y, <replaceWithDegree>)\n",
    "###\n",
    "\n",
    "# Let's plot it!\n",
    "graph.scatter(train_X, train_Y)\n",
    "xp = np.linspace(0, 24, 100)\n",
    "\n",
    "# black dashed linear degree 1\n",
    "graph.plot(xp, np.polyval(poly_1, xp), 'k--')\n",
    "# red degree 2\n",
    "graph.plot(xp, np.polyval(poly_2, xp), 'r-')\n",
    "# blue degree 3\n",
    "graph.plot(xp, np.polyval(poly_3, xp), 'b-') \n",
    "# yellow degree 4\n",
    "graph.plot(xp, np.polyval(poly_4, xp), 'y-') \n",
    "\n",
    "graph.xticks(train_X, data.columns.values)\n",
    "graph.xlabel('Time of day')\n",
    "graph.ylabel('Internet traffic (Gbps)')\n",
    "graph.show()"
   ]
  },
  {
   "cell_type": "markdown",
   "metadata": {},
   "source": [
    "None of these polynomials do a great job of generalising the data. Let's try a few more.\n",
    "\n",
    "#### Follow the instructions in the comments to replace the `<replaceWithDegree>`'s and then __run the code__."
   ]
  },
  {
   "cell_type": "code",
   "execution_count": null,
   "metadata": {},
   "outputs": [],
   "source": [
    "###\n",
    "# REPLACE THE <replaceWithDegree>'s 5, 6, AND 7\n",
    "###\n",
    "poly_5 = np.polyfit(train_X, train_Y, <replaceWithDegree>)\n",
    "poly_6 = np.polyfit(train_X, train_Y, <replaceWithDegree>)\n",
    "poly_7 = np.polyfit(train_X, train_Y, <replaceWithDegree>)\n",
    "###\n",
    "\n",
    "# Let's plot it!\n",
    "graph.scatter(train_X, train_Y)\n",
    "xp = np.linspace(0, 24, 100)\n",
    "\n",
    "# black dashed linear degree 1\n",
    "graph.plot(xp, np.polyval(poly_1, xp), 'k--')\n",
    "# red degree 5\n",
    "graph.plot(xp, np.polyval(poly_5, xp), 'r-') \n",
    "# blue degree 6\n",
    "graph.plot(xp, np.polyval(poly_6, xp), 'b-') \n",
    "# yellow degree 7\n",
    "graph.plot(xp, np.polyval(poly_7, xp), 'y-') \n",
    "\n",
    "graph.xticks(train_X, data.columns.values)\n",
    "graph.xlabel('Time of day')\n",
    "graph.ylabel('Internet traffic (Gbps)')\n",
    "graph.show()"
   ]
  },
  {
   "cell_type": "markdown",
   "metadata": {},
   "source": [
    "It looks like the 5th and 6th degree polynomials have an identical curve. This looks like a good curve to use.\n",
    "\n",
    "We could perhaps use an even higher degree polynomial to fit it even more tightly, but we don't want to overfit the curve, since we want just a generalisation of the relationship.\n",
    "\n",
    "Let's see how our degree 6 polynomial compares to the real data.\n",
    "\n",
    "#### Replace the text `<replaceWithPoly6>` with `poly_6` and __run the code__."
   ]
  },
  {
   "cell_type": "code",
   "execution_count": null,
   "metadata": {},
   "outputs": [],
   "source": [
    "for row in range(0,data_t.shape[1]):\n",
    "    graph.plot(data.columns.values, data_t[row], alpha = 0.5)\n",
    "\n",
    "###\n",
    "# REPLACE <replaceWithPoly6> BELOW WITH poly_6 - THE POLYNOMIAL WE WISH TO VISUALIZE\n",
    "###    \n",
    "graph.plot(xp, np.polyval(<replaceWithPoly6>, xp), 'k-')\n",
    "###\n",
    "\n",
    "graph.xlabel('Time of day')\n",
    "graph.ylabel('Internet traffic (Gbps)')\n",
    "graph.show()"
   ]
  },
  {
   "cell_type": "markdown",
   "metadata": {},
   "source": [
    "Step 5\n",
    "------\n",
    "\n",
    "Now let's try using this model to make a prediction for a time between 00 and 24.\n",
    "\n",
    "#### In the cell below follow the instructions in the code to replace `<replaceWithTime>` and `<replaceWithPoly6>` then __run the code__."
   ]
  },
  {
   "cell_type": "code",
   "execution_count": null,
   "metadata": {},
   "outputs": [],
   "source": [
    "###\n",
    "# REPLACE <replaceWithTime> BELOW WITH 12.5 (this represents the time 12:30)\n",
    "###\n",
    "time = 12.5\n",
    "###\n",
    "\n",
    "###\n",
    "# REPLACE <replaceWithPoly6> BELOW WITH poly_6 SO WE CAN VISUALIZE THE 6TH DEGREE POLYNOMIAL MODEL\n",
    "###\n",
    "pred = np.polyval(<replaceWithPoly6>, time)\n",
    "###\n",
    "\n",
    "print(\"at t=%s, predicted internet traffic is %s Gbps\"%(time,pred))\n",
    "\n",
    "# Now let's visualise it\n",
    "graph.plot(xp, np.polyval(<replaceWithPoly6>, xp), 'y-')\n",
    "\n",
    "graph.plot(time, pred, 'ko') # result point\n",
    "graph.plot(np.linspace(0, time, 2), np.full([2], pred), dashes=[6, 3], color='black') # dashed lines (to y-axis)\n",
    "graph.plot(np.full([2], time), np.linspace(0, pred, 2), dashes=[6, 3], color='black') # dashed lines (to x-axis)\n",
    "\n",
    "graph.xticks(train_X, data.columns.values)\n",
    "graph.ylim(0, 60)\n",
    "graph.title('expected traffic throughout the day')\n",
    "graph.xlabel('time of day')\n",
    "graph.ylabel('internet traffic (Gbps)')\n",
    "\n",
    "graph.show()"
   ]
  },
  {
   "cell_type": "markdown",
   "metadata": {},
   "source": [
    "Conclusion\n",
    "-----\n",
    "\n",
    "And there we have it! You have made a polynomial regression model and used it for analysis! This models gives us a prediction for the level of internet traffic we should expect to see at any given time of day.\n",
    "\n",
    "You can go back to the course and either click __'Next Step'__ to start an optional step with tips on how to better work with AI models, or you can go to the next module where instead of predicting numbers we predict categories."
   ]
  }
 ],
 "metadata": {
  "kernelspec": {
   "display_name": "Python 3",
   "language": "python",
   "name": "python3"
  },
  "language_info": {
   "codemirror_mode": {
    "name": "ipython",
    "version": 3
   },
   "file_extension": ".py",
   "mimetype": "text/x-python",
   "name": "python",
   "nbconvert_exporter": "python",
   "pygments_lexer": "ipython3",
   "version": "3.7.6"
  }
 },
 "nbformat": 4,
 "nbformat_minor": 4
}
